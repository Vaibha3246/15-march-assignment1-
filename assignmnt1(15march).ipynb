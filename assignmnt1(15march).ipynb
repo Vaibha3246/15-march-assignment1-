{
 "cells": [
  {
   "cell_type": "markdown",
   "metadata": {},
   "source": [
    "QD- Explain the following with an example?\n",
    "( a) Artificial Intillegence \n",
    "\n",
    "answer:\n",
    "\n",
    "Airtificial Intillegence is a big field or smart application taht can perform any task with out any human being interaction .\n",
    "example: self driving car , robotics, alexa etc \n",
    "\n",
    "\n",
    "(b). Machine learning :\n",
    "\n",
    "answer :\n",
    "Machine learning is a subset of Airtificial Intillengence ,that provides a statstool to visulize and analysize and \n",
    "develop the predective tool from the data.\n",
    "\n",
    "ex- recomendation system on online platform like flipkart ,amazon , youtube etc.\n",
    "\n",
    "\n",
    "(c). deep learning :\n",
    "Deep learning is a specialized subset of machine learning that focuses on neural networks with many layers, known as deep neural networks. These models are capable of learning complex patterns and representations from large amounts of data, particularly useful for tasks involving unstructured data such as images, audio, and text.\n",
    "\n",
    "\n"
   ]
  },
  {
   "cell_type": "markdown",
   "metadata": {},
   "source": [
    "Q2- What is supervised learning? List some examples of superrvised learning.\n",
    "\n",
    "answer: supervised learning is a good techinque to predict on a new data ,because it involves a training a model on labeled dataset ,where we have both input and output data  .\n",
    "\n",
    "example: temperature prediction , stock predcition ,house rate prediction , image classification etc \n",
    "\n",
    "\n"
   ]
  },
  {
   "cell_type": "markdown",
   "metadata": {},
   "source": [
    "Q3- GWhat is unsuperrvised learning? List some examples of unsupervised learning.\n",
    "\n",
    "answer :\n",
    "Unsupervised learning is a type of machine learning where the algorithm is provided with data that does not have labeled responses. The goal of unsupervised learning is to identify underlying patterns, structures, or features in the data without any specific output labels to guide the learning process. The algorithm tries to learn the inherent structure of the data by exploring its \n",
    "\n",
    "example : \n",
    "\n",
    "Clustering: Grouping similar data points together.\n",
    "\n",
    "K-Means Clustering: Divides data into K groups where items in the same group are similar.\n",
    "Hierarchical Clustering: Builds a tree of clusters to show how data points are related.\n",
    "Dimensionality Reduction: Reducing the number of features while keeping important information.\n",
    "\n",
    "Principal Component Analysis (PCA): Simplifies data by finding new features that summarize the original features.\n",
    "t-SNE: Helps visualize high-dimensional data in 2D or 3D.\n",
    "Anomaly Detection: Finding unusual data points that don’t fit the normal pattern.\n",
    "\n",
    "Isolation Forest: Detects anomalies by isolating points that are different from the rest.\n",
    "Association Rule Learning: Finding interesting relationships between items in large datasets.\n",
    "\n",
    "Apriori Algorithm: Finds common item sets and relationships between them, often used in market basket analysis."
   ]
  },
  {
   "cell_type": "markdown",
   "metadata": {},
   "source": []
  },
  {
   "cell_type": "markdown",
   "metadata": {},
   "source": [
    "Q4- What is the different  between  AI, ML, DL, and DS?\n",
    "\n",
    "Artificial Intelligence (AI)\n",
    "Definition: AI refers to the development of computer systems that can perform tasks that typically require human intelligence, such as understanding natural language, recognizing patterns, learning from experience, and making decisions.\n",
    "Scope: It encompasses a broad range of techniques, including machine learning and deep learning, as well as symbolic reasoning, natural language processing, computer vision, robotics, and more.\n",
    "\n",
    "Examples: Virtual assistants (like Siri or Alexa), recommendation systems (like those used by Netflix or Amazon), autonomous vehicles, and chatbots.\n",
    "\n",
    "Machine Learning (ML)\n",
    "Definition: ML is a subset of AI that focuses on the development of algorithms and statistical models that enable computers to learn and make predictions or decisions without being explicitly programmed to perform specific tasks.\n",
    "Scope: ML algorithms learn from data by identifying patterns and relationships, making them capable of making decisions or predictions on new, unseen data.\n",
    "\n",
    "Examples: Spam detection in emails, sentiment analysis in social media posts, predicting house prices, image recognition, and medical diagnosis.\n",
    "\n",
    "Deep Learning (DL)\n",
    "Definition: DL is a subset of ML that uses artificial neural networks with many layers (deep neural networks) to learn complex patterns and representations from large amounts of data.\n",
    "Scope: DL excels in tasks involving unstructured data, such as images, audio, and text, by automatically discovering hierarchical features from raw input data.\n",
    "\n",
    "Examples: Image recognition (e.g., identifying objects in photos), speech recognition, natural language processing (e.g., machine translation), and autonomous driving.\n",
    "\n",
    "Data Science (DS)\n",
    "\n",
    "Definition: DS is an interdisciplinary field that combines various techniques and methodologies to extract insights and knowledge from data. It encompasses data collection, cleaning, analysis, visualization, and interpretation to solve complex problems and make data-driven decisions.\n",
    "Scope: DS incorporates elements from statistics, mathematics, computer science, and domain expertise to address a wide range of challenges across different industries.\n",
    "Examples: Predictive modeling, customer segmentation, A/B testing, anomaly detection, and recommendation systems.\n"
   ]
  },
  {
   "cell_type": "markdown",
   "metadata": {},
   "source": [
    "Q5- What are thK main differences  between  supervised, unsupervised, and semi-superrvised learning?\n",
    "\n",
    "Supervised Learning: Learns from labeled data to predict output labels.\n",
    "\n",
    "Unsupervised Learning: Explores unlabeled data to find patterns or structures.\n",
    "\n",
    "Semi-Supervised Learning: Combines labeled and unlabeled data to improve model performance, particularly when labeled data is scarce."
   ]
  },
  {
   "cell_type": "markdown",
   "metadata": {},
   "source": [
    "Q6- What is train, test and validation split? Explain the importance of each term.\n",
    "answer\n",
    "Training Set:\n",
    "\n",
    "Definition: The training set is the portion of the dataset used to train the machine learning model. It contains input features and corresponding output labels.\n",
    "Importance: The model learns from the patterns in the training data, adjusting its parameters to minimize the prediction error.\n",
    "Size: Typically, the training set comprises the majority of the available data, often around 60-80% of the dataset.\n",
    "Test Set:\n",
    "\n",
    "Definition: The test set is a separate portion of the dataset that is not used during model training. It is reserved for evaluating the model's performance on unseen data.\n",
    "Importance: The test set provides an unbiased estimate of the model's performance on new, unseen data. It helps assess how well the model generalizes to real-world scenarios.\n",
    "Size: The test set is usually smaller than the training set, typically around 20-40% of the dataset.\n",
    "Validation Set:\n",
    "\n",
    "Definition: The validation set is an additional subset of the data used to tune the hyperparameters of the model and prevent overfitting.\n",
    "Importance: The validation set helps monitor the model's performance during training and provides feedback on whether adjustments are needed to improve generalization.\n",
    "Size: The validation set can vary in size but is typically smaller than the training set and larger than the test set."
   ]
  },
  {
   "cell_type": "markdown",
   "metadata": {},
   "source": [
    "Q7- How can unsupervised learning  by used in anomaly detection?\n",
    "\n",
    "Clustering: Clustering algorithms like K-means or DBSCAN can partition the data into groups based on similarity. Anomalies are then detected as data points that do not belong to any cluster or belong to very small clusters.\n",
    "\n",
    "Density-based methods: Density-based techniques such as Local Outlier Factor (LOF) or Isolation Forest identify anomalies as data points with significantly lower density compared to their neighbors. These methods are particularly useful for detecting outliers in high-dimensional datasets.\n",
    "\n",
    "Principal Component Analysis (PCA): PCA is a dimensionality reduction technique that can be used to transform high-dimensional data into a lower-dimensional space while preserving most of its variance. Anomalies can be detected by identifying data points that have a large reconstruction error when transformed back into the original space.\n",
    "\n",
    "Autoencoders: Autoencoders are neural networks trained to reconstruct their input. In anomaly detection, an autoencoder is trained on normal data, and anomalies are identified as instances that have a high reconstruction error when compared to the original input.\n",
    "\n",
    "One-Class SVM: One-Class Support Vector Machines (SVM) are trained on normal data to construct a boundary around it. Anomalies are then identified as data points lying outside this boundary.\n",
    "\n",
    "Statistical methods: Statistical techniques such as Gaussian Mixture Models (GMM) or histogram-based approaches can be used to model the distribution of normal data and identify anomalies as data points with low probability under this distribution.\n",
    "\n"
   ]
  },
  {
   "cell_type": "markdown",
   "metadata": {},
   "source": [
    "Q8- List down some commonly used superrvised learning algorithms and unsupKrvisKd learning\n",
    "algorithms. ?\n",
    "\n",
    "solution :\n",
    "\n",
    "\n",
    "Supervised Learning Algorithms:\n",
    "\n",
    "Linear Regression\n",
    "Logistic Regression\n",
    "Decision Trees\n",
    "Random Forest\n",
    "Support Vector Machines (SVM)\n",
    "K-Nearest Neighbors (KNN)\n",
    "Naive Bayes\n",
    "Gradient Boosting Machines (GBM)\n",
    "Neural Networks (Deep Learning)\n",
    "Ensemble methods (e.g., AdaBoost)\n",
    "\n",
    "\n",
    "Unsupervised Learning Algorithms:\n",
    "\n",
    "K-Means Clustering\n",
    "Hierarchical Clustering\n",
    "DBSCAN (Density-Based Spatial Clustering of Applications with Noise)\n",
    "Gaussian Mixture Models (GMM)\n",
    "Principal Component Analysis (PCA)\n",
    "Independent Component Analysis (ICA)\n",
    "t-Distributed Stochastic Neighbor Embedding (t-SNE)\n",
    "Autoencoders\n",
    "Self-Organizing Maps (SOM)"
   ]
  },
  {
   "cell_type": "markdown",
   "metadata": {},
   "source": []
  }
 ],
 "metadata": {
  "kernelspec": {
   "display_name": "Python 3",
   "language": "python",
   "name": "python3"
  },
  "language_info": {
   "name": "python",
   "version": "3.11.9"
  }
 },
 "nbformat": 4,
 "nbformat_minor": 2
}
